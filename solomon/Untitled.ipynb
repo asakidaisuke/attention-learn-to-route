{
 "cells": [
  {
   "cell_type": "code",
   "execution_count": 63,
   "metadata": {},
   "outputs": [],
   "source": [
    "import os\n",
    "import pandas as pd"
   ]
  },
  {
   "cell_type": "code",
   "execution_count": 71,
   "metadata": {},
   "outputs": [],
   "source": [
    "path_list = [\n",
    "    \"c1/\",\n",
    "    \"c2/\",\n",
    "    \"r1/\",\n",
    "    \"r2/\",\n",
    "    \"rc1/\",\n",
    "    \"rc2/\",\n",
    "]\n",
    "\n",
    "NODE_SIZE=\"100\""
   ]
  },
  {
   "cell_type": "code",
   "execution_count": 72,
   "metadata": {},
   "outputs": [],
   "source": [
    "column = [\"CUST NO. \", \"XCOORD.\", \"YCOORD.\", \"DEMAND\", \"READY TIME \", \"DUE DATE \", \"SERVICE TIME\"]"
   ]
  },
  {
   "cell_type": "code",
   "execution_count": 83,
   "metadata": {},
   "outputs": [],
   "source": [
    "for path in path_list:\n",
    "    file_list = os.listdir(\"raw/\" + NODE_SIZE + \"/\" + path)\n",
    "    for file in file_list:\n",
    "        f = open(\"raw/\" + NODE_SIZE + \"/\" + path + file, \"r\")\n",
    "        df_line = []\n",
    "        for i in range(120):\n",
    "            if i < 8:\n",
    "                f.readline()\n",
    "            else:\n",
    "                line = f.readline()\n",
    "                if len(line) != 0:\n",
    "                    row = [int(ele) for ele in line.split(\" \") if len(ele) != 0 and ele != '\\n']\n",
    "                    if len(row) == 0:\n",
    "                        continue\n",
    "                    df_line.append(row)\n",
    "        df = pd.DataFrame(df_line, columns = column)\n",
    "        df.to_csv(\"csv/\" + NODE_SIZE + \"/\" + file[:-4] + \".csv\")"
   ]
  },
  {
   "cell_type": "code",
   "execution_count": null,
   "metadata": {},
   "outputs": [],
   "source": []
  }
 ],
 "metadata": {
  "kernelspec": {
   "display_name": "Python 3",
   "language": "python",
   "name": "python3"
  },
  "language_info": {
   "codemirror_mode": {
    "name": "ipython",
    "version": 3
   },
   "file_extension": ".py",
   "mimetype": "text/x-python",
   "name": "python",
   "nbconvert_exporter": "python",
   "pygments_lexer": "ipython3",
   "version": "3.8.0"
  }
 },
 "nbformat": 4,
 "nbformat_minor": 4
}
